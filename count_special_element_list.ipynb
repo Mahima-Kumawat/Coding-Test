{
 "cells": [
  {
   "cell_type": "code",
   "execution_count": 1,
   "metadata": {},
   "outputs": [
    {
     "name": "stdout",
     "output_type": "stream",
     "text": [
      "The element 2 appears 4 times in the list.\n"
     ]
    }
   ],
   "source": [
    "# 3. Write a Python function to count the occurrences of a specific element in a list.\n",
    "\n",
    "# Define the list\n",
    "my_list = [1, 2, 3, 4, 2, 2, 5, 6, 2]\n",
    "\n",
    "# Specify the element to count\n",
    "element_to_count = 2\n",
    "\n",
    "# Initialize a counter to 0\n",
    "count = 0\n",
    "\n",
    "# Iterate over each item in the list\n",
    "for item in my_list:\n",
    "    if item == element_to_count:\n",
    "        count += 1 \n",
    "# Print the result\n",
    "print(f\"The element {element_to_count} appears {count} times in the list.\")\n"
   ]
  },
  {
   "cell_type": "code",
   "execution_count": null,
   "metadata": {},
   "outputs": [],
   "source": []
  }
 ],
 "metadata": {
  "kernelspec": {
   "display_name": "Python 3",
   "language": "python",
   "name": "python3"
  },
  "language_info": {
   "codemirror_mode": {
    "name": "ipython",
    "version": 3
   },
   "file_extension": ".py",
   "mimetype": "text/x-python",
   "name": "python",
   "nbconvert_exporter": "python",
   "pygments_lexer": "ipython3",
   "version": "3.8.3"
  }
 },
 "nbformat": 4,
 "nbformat_minor": 4
}
