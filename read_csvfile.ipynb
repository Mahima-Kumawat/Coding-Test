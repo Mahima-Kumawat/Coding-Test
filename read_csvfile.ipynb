{
 "cells": [
  {
   "cell_type": "code",
   "execution_count": 4,
   "metadata": {
    "scrolled": true
   },
   "outputs": [
    {
     "name": "stdout",
     "output_type": "stream",
     "text": [
      "['Name ', 'Age', 'Hobbies']\n",
      "['Mahima', '21', 'Art']\n",
      "['Manju ', '23', 'Dance']\n",
      "['Neha', '20', 'Dance']\n"
     ]
    }
   ],
   "source": [
    "# 1. Write a Python program to read a CSV file and display its contents.\n",
    "\n",
    "import csv  # Import the csv module for reading CSV files\n",
    "\n",
    "# Specify the path to the CSV file\n",
    "file_path = 'D:/Mahima Kumawat.csv'\n",
    "\n",
    "try:\n",
    "    # Open the CSV file in read mode\n",
    "    with open(file_path, mode='r', newline='', encoding='utf-8') as csvfile:\n",
    "        # Create a CSV reader object to read the file\n",
    "        csvreader = csv.reader(csvfile)\n",
    "        \n",
    "        # Iterate over each row in the CSV file\n",
    "        for row in csvreader:\n",
    "            # Print each row as a list of values\n",
    "            print(row)\n",
    "except FileNotFoundError:\n",
    "    print(f\"The file '{file_path}' does not exist.\")\n",
    "except Exception as e:\n",
    "    print(f\"An error occurred: {e}\")\n"
   ]
  },
  {
   "cell_type": "code",
   "execution_count": null,
   "metadata": {},
   "outputs": [],
   "source": []
  }
 ],
 "metadata": {
  "kernelspec": {
   "display_name": "Python 3",
   "language": "python",
   "name": "python3"
  },
  "language_info": {
   "codemirror_mode": {
    "name": "ipython",
    "version": 3
   },
   "file_extension": ".py",
   "mimetype": "text/x-python",
   "name": "python",
   "nbconvert_exporter": "python",
   "pygments_lexer": "ipython3",
   "version": "3.8.3"
  }
 },
 "nbformat": 4,
 "nbformat_minor": 4
}
